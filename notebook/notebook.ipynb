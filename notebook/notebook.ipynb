{
 "cells": [
  {
   "cell_type": "code",
   "execution_count": 1,
   "metadata": {},
   "outputs": [],
   "source": [
    "# libraries\n",
    "import fitz\n",
    "import re\n",
    "from langchain.vectorstores import Chroma\n",
    "from dotenv import load_dotenv\n",
    "import os\n",
    "from langchain.embeddings import OpenAIEmbeddings\n",
    "from langchain.schema import Document\n",
    "import openai\n",
    "import chromadb"
   ]
  },
  {
   "cell_type": "markdown",
   "metadata": {},
   "source": []
  },
  {
   "cell_type": "code",
   "execution_count": 2,
   "metadata": {},
   "outputs": [],
   "source": [
    "def load_pdf(file_path):\n",
    "    content = []\n",
    "    with fitz.open(file_path) as pdf:\n",
    "        for page in pdf:\n",
    "            content.append(page.get_text())\n",
    "    return content"
   ]
  },
  {
   "cell_type": "code",
   "execution_count": 3,
   "metadata": {},
   "outputs": [],
   "source": [
    "file_path = '../data/Introduction to Statistics.pdf'\n",
    "pdf_content = load_pdf(file_path)"
   ]
  },
  {
   "cell_type": "code",
   "execution_count": 4,
   "metadata": {},
   "outputs": [],
   "source": [
    "def clean_pdf(pages):\n",
    "    cleaned_content = []\n",
    "    for page in pages:\n",
    "        # Remove excessive whitespace and possible document-related metadata\n",
    "        text = re.sub(r'\\s+', ' ', page)\n",
    "        text = re.sub(r'^\\d+\\s+', '', text)  # Remove page numbers at the beginning\n",
    "\n",
    "        # Remove the specific URLs and any preceding numbers like '1.1.3'\n",
    "        text = re.sub(r'\\b\\d+\\.\\d+\\.\\d+\\s+https://stats\\.libretexts\\.org/@go/page/\\d+\\b\\s*', '', text)\n",
    "        text = re.sub(r'https://stats\\.libretexts\\.org/@go/page/\\d+\\b\\s*', '', text)\n",
    "\n",
    "        # Remove BOM-like characters and any other non-ASCII characters\n",
    "        text = re.sub(r'[^\\x00-\\x7F]+', ' ', text)\n",
    "\n",
    "        cleaned_content.append(text)\n",
    "    return cleaned_content"
   ]
  },
  {
   "cell_type": "code",
   "execution_count": 5,
   "metadata": {},
   "outputs": [],
   "source": [
    "cleaned_content = clean_pdf(pdf_content)"
   ]
  },
  {
   "cell_type": "code",
   "execution_count": 6,
   "metadata": {},
   "outputs": [
    {
     "data": {
      "text/plain": [
       "['INTRODUCTORY STATISTICS Shafer and Zhang LibreTexts ',\n",
       " 'Introductory Statistics Shafer and Zhang ',\n",
       " 'This text is disseminated via the Open Education Resource (OER) LibreTexts Project (https://LibreTexts.org) and like the hundreds of other texts available within this powerful platform, it is freely available for reading, printing and \"consuming.\" Most, but not all, pages in the library have licenses that may allow individuals to make changes, save, and print this book. Carefully consult the applicable license(s) before pursuing such effects. Instructors can adopt existing LibreTexts texts or Remix them to quickly build course-specific resources to meet the needs of their students. Unlike traditional textbooks, LibreTexts  web based origins allow powerful integration of advanced features and new technologies to support learning. The LibreTexts mission is to unite students, faculty and scholars in a cooperative effort to develop an easy-to-use online platform for the construction, customization, and dissemination of OER content to reduce the burdens of unreasonable textbook costs to our students and society. The LibreTexts project is a multi-institutional collaborative venture to develop the next generation of open- access texts to improve postsecondary education at all levels of higher learning by developing an Open Access Resource environment. The project currently consists of 14 independently operating and interconnected libraries that are constantly being optimized by students, faculty, and outside experts to supplant conventional paper-based books. These free textbook alternatives are organized within a central environment that is both vertically (from advance to basic level) and horizontally (across different fields) integrated. The LibreTexts libraries are Powered by NICE CXOne and are supported by the Department of Education Open Textbook Pilot Project, the UC Davis Office of the Provost, the UC Davis Library, the California State University Affordable Learning Solutions Program, and Merlot. This material is based upon work supported by the National Science Foundation under Grant No. 1246120, 1525057, and 1413739. Any opinions, findings, and conclusions or recommendations expressed in this material are those of the author(s) and do not necessarily reflect the views of the National Science Foundation nor the US Department of Education. Have questions or comments? For information about adoptions or adaptions contact info@LibreTexts.org. More information on our activities can be found via Facebook (https://facebook.com/Libretexts), Twitter (https://twitter.com/libretexts), or our blog (http://Blog.Libretexts.org). This text was compiled on 03/18/2025 ',\n",
       " \"TABLE OF CONTENTS Licensing 1: Introduction to Statistics 1.1: Basic Definitions and Concepts 1.2: Overview 1.3: Presentation of Data 1.E: Introduction to Statistics (Exercises) 2: Descriptive Statistics 2.1: Three Popular Data Displays 2.2: Measures of Central Location - Three Kinds of Averages 2.3: Measures of Variability 2.4: Relative Position of Data 2.5: The Empirical Rule and Chebyshev's Theorem 2.E: Descriptive Statistics (Exercises) 3: Basic Concepts of Probability 3.1: Sample Spaces, Events, and Their Probabilities 3.2: Complements, Intersections, and Unions 3.3: Conditional Probability and Independent Events 3.E: Basic Concepts of Probability (Exercises) 4: Discrete Random Variables 4.1: Random Variables 4.2: Probability Distributions for Discrete Random Variables 4.3: The Binomial Distribution 4.E: Discrete Random Variables (Exercises) 5: Continuous Random Variables 5.1: Continuous Random Variables 5.2: The Standard Normal Distribution 5.3: Probability Computations for General Normal Random Variables 5.4: Areas of Tails of Distributions 5.E: Continuous Random Variables (Exercises) 6: Sampling Distributions 6.1: The Mean and Standard Deviation of the Sample Mean 6.2: The Sampling Distribution of the Sample Mean 6.3: The Sample Proportion 6.E: Sampling Distributions (Exercises) 7: Estimation 7.1: Large Sample Estimation of a Population Mean 7.2: Small Sample Estimation of a Population Mean \",\n",
       " '7.3: Large Sample Estimation of a Population Proportion 7.4: Sample Size Considerations 7.E: Estimation (Exercises) 8: Testing Hypotheses 8.1: The Elements of Hypothesis Testing 8.2: Large Sample Tests for a Population Mean 8.3: The Observed Significance of a Test 8.4: Small Sample Tests for a Population Mean 8.5: Large Sample Tests for a Population Proportion 8.E: Testing Hypotheses (Exercises) 9: Two-Sample Problems 9.1: Comparison of Two Population Means- Large, Independent Samples 9.2: Comparison of Two Population Means - Small, Independent Samples 9.3: Comparison of Two Population Means - Paired Samples 9.4: Comparison of Two Population Proportions 9.5: Sample Size Considerations 9.E: Two-Sample Problems (Exercises) 10: Correlation and Regression 10.1: Linear Relationships Between Variables 10.2: The Linear Correlation Coefficient 10.3: Modelling Linear Relationships with Randomness Present 10.4: The Least Squares Regression Line 10.5: Statistical Inferences About   10.6: The Coefficient of Determination 10.7: Estimation and Prediction 10.8: A Complete Example 10.9: Formula List 10.E: Correlation and Regression (Exercises) 11: Chi-Square Tests and F-Tests 11.1: Chi-Square Tests for Independence 11.2: Chi-Square One-Sample Goodness-of-Fit Tests 11.3: F-tests for Equality of Two Variances 11.4: F-Tests in One-Way ANOVA 11.E: Chi-Square Tests and F-Tests (Exercises) Index Glossary Detailed Licensing ',\n",
       " \"Licensing A detailed breakdown of this resource's licensing can be found in Back Matter/Detailed Licensing. \",\n",
       " 'CHAPTER OVERVIEW 1: Introduction to Statistics In this chapter we will introduce some basic terminology and lay the groundwork for the course. We will explain in general terms what statistics and probability are and the problems that these two areas of study are designed to solve. 1.1: Basic Definitions and Concepts 1.2: Overview 1.3: Presentation of Data 1.E: Introduction to Statistics (Exercises) This page titled 1: Introduction to Statistics is shared under a CC BY-NC-SA 3.0 license and was authored, remixed, and/or curated by Anonymous via source content that was edited to the style and standards of the LibreTexts platform. ',\n",
       " '1.1: Basic Definitions and Concepts To learn the basic definitions used in statistics and some of its key concepts. We begin with a simple example. There are millions of passenger automobiles in the United States. What is their average value? It is obviously impractical to attempt to solve this problem directly by assessing the value of every single car in the country, add up all those values, then divide by the number of values, one for each car. In practice the best we can do would be to estimate the average value. A natural way to do so would be to randomly select some of the cars, say of them, ascertain the value of each of those cars, and find the average of those values. The set of all those millions of vehicles is called the population of interest, and the number attached to each one, its value, is a measurement. The average value is a parameter: a number that describes a characteristic of the population, in this case monetary worth. The set of cars selected from the population is called a sample, and the numbers, the monetary values of the cars we selected, are the sample data. The average of the data is called a statistic: a number calculated from the sample data. This example illustrates the meaning of the following definitions. A population is any specific collection of objects of interest. A sample is any subset or subcollection of the population, including the case that the sample consists of the whole population, in which case it is termed a census. A measurement is a number or attribute computed for each member of a population or of a sample. The measurements of sample elements are collectively called the sample data. A parameter is a number that summarizes some aspect of the population as a whole. A statistic is a number computed from the sample data. Continuing with our example, if the average value of the cars in our sample was , then it seems reasonable to conclude that the average value of all cars is about . In reasoning this way we have drawn an inference about the population based on information obtained from the sample. In general, statistics is a study of data: describing properties of the data, which is called descriptive statistics, and drawing conclusions about a population of interest from information extracted from a sample, which is called inferential statistics. Computing the single number to summarize the data was an operation of descriptive statistics; using it to make a statement about the population was an operation of inferential statistics. Statistics is a collection of methods for collecting, displaying, analyzing, and drawing conclusions from data. Descriptive statistics is the branch of statistics that involves organizing, displaying, and describing data. Inferential statistics is the branch of statistics that involves drawing conclusions about a population based on information contained in a sample taken from that population. The measurement made on each element of a sample need not be numerical. In the case of automobiles, what is noted about each car could be its color, its make, its body type, and so on. Such data are categorical or qualitative, as opposed to numerical or quantitative data such as value or age. This is a general distinction.  Learning Objectives 200 200 200 200  Definitions: populations and samples  Definitions: measurements and Sample Data  Definition: parameters $8, 357 $8, 357 $8, 357  Definition: Statistics  Definition: Descriptive statistics  Definition: Inferential statistics ',\n",
       " 'Qualitative data are measurements for which there is no natural numerical scale, but which consist of attributes, labels, or other non-numerical characteristics. Quantitative data are numerical measurements that arise from a natural numerical scale. Qualitative data can generate numerical sample statistics. In the automobile example, for instance, we might be interested in the proportion of all cars that are less than six years old. In our same sample of cars we could note for each car whether it is less than six years old or not, which is a qualitative measurement. If cars in the sample are less than six years old, which is or , then we would estimate the parameter of interest, the population proportion, to be about the same as the sample statistic, the sample proportion, that is, about . The relationship between a population of interest and a sample drawn from that population is perhaps the most important concept in statistics, since everything else rests on it. This relationship is illustrated graphically in Figure . The circles in the large box represent elements of the population. In the figure there was room for only a small number of them but in actual situations, like our automobile example, they could very well number in the millions. The solid black circles represent the elements of the population that are selected at random and that together form the sample. For each element of the sample there is a measurement of interest, denoted by a lower case (which we have indexed as to tell them apart); these measurements collectively form the sample data set. From the data we may calculate various statistics. To anticipate the notation that will be used later, we might compute the sample mean and the sample proportion , and take them as approximations to the population mean (this is the lower case Greek letter mu, the traditional symbol for this parameter) and the population proportion , respectively. The other symbols in the figure stand for other parameters and statistics that we will encounter. Figure : The Grand Picture of Statistics  Definition: Qualitative data  Definition: Quantitative data 200 172 0.86 86% 0.86 1.1.1 x ,   , x1 xn x  p^   p 1.1.1 ',\n",
       " 'Statistics is a study of data: describing properties of data (descriptive statistics) and drawing conclusions about a population based on information in a sample (inferential statistics). The distinction between a population together with its parameters and a sample together with its statistics is a fundamental concept in inferential statistics. Information in a sample is used to make inferences about the population from which the sample was drawn. This page titled 1.1: Basic Definitions and Concepts is shared under a CC BY-NC-SA 3.0 license and was authored, remixed, and/or curated by Anonymous via source content that was edited to the style and standards of the LibreTexts platform.  Key Takeaway ',\n",
       " '1.2: Overview To obtain an overview of the material in the text. The example we gave in the first section seems fairly simple, but it illustrates some significant problems. We supposed that the cars of the sample had an average value of (a number that is precisely known), and concluded that the population has an average of about the same amount, although its precise value is still unknown. What would happen if someone else were to take another sample of exactly the same size from exactly the same population? Would he or she get the same sample average as we did, ? Almost surely not. In fact, if the investigator who took the second sample reported precisely the same value, we would immediately become suspicious of his result. The sample average is an example of what is called a random variable: a number that varies from trial to trial of an experiment (in this case, from sample to sample), and does so in a way that cannot be predicted precisely. Random variables will be a central object of study for us, beginning in Chapter 4. Another issue that arises is that different samples have different levels of reliability. We have supposed that our sample of size had an average of . If a sample of size yielded an average value of , then we would naturally regard this latter number as probably a better estimate of the average value of all cars, since it came from a larger sample. How can this be expressed? An important idea developed in Chapter 7 is the confidence interval: from the data we will construct an interval of values using a process that has a certain chance, say a chance, of generating an interval that contains the true population average. Thus, instead of reporting a single estimate, , for the population mean we might say that, based on our sample data, we are certain that the true average is within of our sample mean, that is, we are certain that the true average is the between and . The number will be computed from the sample data just as the sample mean was. This \" confidence interval\" will automatically indicate the reliability of the estimate that we obtained from the sample. Moreover, to obtain the same chance of containing the unknown parameter, a large sample will typically produce a shorter interval than a small sample will. Thus large samples usually give more accurate results. Unless we perform a census, which is a \"sample\" that includes the entire population, we can never be completely sure of the exact average value of the population. The best that we can do is to make statements of probability, an important concept that we will begin to study formally in Chapter 3. Sampling may be done not only to estimate a population parameter, but to test a claim that is made about that parameter. Suppose a food package asserts that the amount of sugar in one serving of the product is grams. A consumer group might suspect that it actually contains more. How would they test the competing claims about the amount of sugar, \" grams\" versus \"more than grams\"? They might take a random sample of perhaps food packages, measure the amount of sugar in one serving of each one, and average those amounts. They are not interested in measuring the average amount of sugar in a serving for its own sake; their interest is simply whether the claim about the true amount is accurate. Stated another way, they are sampling not in order to estimate the average amount of sugar in one serving, but to see whether that amount, whatever it may be, is larger than grams. Again because one can have certain knowledge only by taking a census, ideas of probability enter into the analysis. We will examine tests of hypotheses beginning in Chapter 8 . Several times in this introduction we have used the term  random sample.  Generally the value of our data is only as good as the sample that produced it. For example, suppose we wish to estimate the proportion of all students at a large university who are females, which we denote by . If we select students at random and of them are female, then a natural estimate is or . How much confidence we can place in this estimate depends not only on the size of the sample, but on its quality, whether or not it is truly random, or at least truly representative of the whole population. If all students in our sample were drawn from a College of Nursing, then the proportion of female students in the sample is likely higher than that of the entire campus. If all students were selected from a College of Engineering Sciences, then the proportion of students in the entire student body who are females could be underestimated. In either case, the estimate would be distorted or biased. In statistical practice an unbiased sampling scheme is important but in most cases not easy to produce. For this introductory course we will assume that all samples are either random or at least representative. Statistics computed from samples vary randomly from sample to sample. Conclusions made about population parameters are statements of probability.  Learning Objectives 200 $8, 357 $8, 357 200 $8, 357 1, 000 $7, 832 95% $8, 357 95% $100 95% $8, 257 $8, 457 $100 $8, 357 95% 14 14 14 20 14 p 50 27 p   = 27/50 = 0.54 p^ 54% 50 50  Key Takeaway ',\n",
       " 'This page titled 1.2: Overview is shared under a CC BY-NC-SA 3.0 license and was authored, remixed, and/or curated by Anonymous via source content that was edited to the style and standards of the LibreTexts platform. ',\n",
       " '1.3: Presentation of Data To learn two ways that data will be presented in the text. In this book we will use two formats for presenting data sets. The first is a data list, which is an explicit listing of all the individual measurements, either as a display with space between the individual measurements, or in set notation with individual measurements separated by commas. The data obtained by measuring the age of randomly selected students enrolled in freshman courses at a university could be presented as the data list: or in set notation as: A data set can also be presented by means of a data frequency table, a table in which each distinct value is listed in the first row and its frequency , which is the number of times the value appears in the data set, is listed below it in the second row. A data set can also be presented by means of a data frequency table, a table in which each distinct value is listed in the first row and its frequency , which is the number of times the value appears in the data set, is listed below it in the second row. The data set of the previous example is represented by the data frequency table The data frequency table is especially convenient when data sets are large and the number of distinct values is not too large. Data sets can be presented either by listing all the elements or by giving a table of values and frequencies. This page titled 1.3: Presentation of Data is shared under a CC BY-NC-SA 3.0 license and was authored, remixed, and/or curated by Anonymous via source content that was edited to the style and standards of the LibreTexts platform.  Learning Objectives  Example 1.3.1 21 18 19 18 18 19 24 19 18 19 20 18 18 22 21 20 20 18 17 18 19 17 {18, 18, 19, 19, 19, 18, 22, 20, 18, 18, 17, 19, 18, 24, 18, 20, 18, 21, 20, 17, 19} x f x x f x  Example 1.3.2 x f 17 2 18 8 19 5 20 3 21 1 22 1 24 1  Key Takeaway ',\n",
       " '1.E.1 1.E: Introduction to Statistics (Exercises) These are homework exercises to accompany the Textmap created for \"Introductory Statistics\" by Shafer and Zhang. Complementary General Chemistry question banks can be found for other Textmaps and can be accessed here. In addition to these publicly available questions, access to private problems bank for use in exams and homework is available to faculty only on an individual basis; please contact Delmar Larsen for an account with access permission. 1.1: Basic Definitions and Concepts Questions 1. Explain what is meant by the term population. 2. Explain what is meant by the term sample. 3. Explain how a sample differs from a population. 4. Explain what is meant by the term sample data. 5. Explain what a parameter is. 6. Explain what a statistic is. 7. Give an example of a population and two different characteristics that may be of interest. 8. Describe the difference between descriptive statistics and inferential statistics. Illustrate with an example. 9. Identify each of the following data sets as either a population or a sample: a. The grade point averages (GPAs) of all students at a college. b. The GPAs of a randomly selected group of students on a college campus. c. The ages of the nine Supreme Court Justices of the United States on . d. The gender of every second customer who enters a movie theater. e. The lengths of Atlantic croakers caught on a fishing trip to the beach. 10. Identify the following measures as either quantitative or qualitative: a. The high-temperature readings of the last days. b. The scores of students on an English test. c. The blood types of teachers in a middle school. d. The last four digits of social security numbers of all students in a class. e. The numbers on the jerseys of football players on a team. 11. Identify the following measures as either quantitative or qualitative: a. The genders of the first newborns in a hospital one year. b. The natural hair color of randomly selected fashion models. c. The ages of randomly selected fashion models. d. The fuel economy in miles per gallon of new cars purchased last month. e. The political affiliation of randomly selected voters. 12. A researcher wishes to estimate the average amount spent per person by visitors to a theme park. He takes a random sample of forty visitors and obtains an average of per person. a. What is the population of interest? b. What is the parameter of interest? c. Based on this sample, do we know the average amount spent per person by visitors to the park? Explain fully. 13. A researcher wishes to estimate the average weight of newborns in South America in the last five years. He takes a random sample of newborns and obtains an average of kilograms. a. What is the population of interest? b. What is the parameter of interest? c. Based on this sample, do we know the average weight of newborns in South America? Explain fully. 14. A researcher wishes to estimate the proportion of all adults who own a cell phone. He takes a random sample of adults; of them own a cell phone, hence or about own a cell phone. a. What is the population of interest? b. What is the parameter of interest? c. What is the statistic involved? January 1, 1842 30 30 40 120 53 40 20 20 20 500 $28 235 3.27 1, 572 1, 298 1298  1572  .83 83% ',\n",
       " '1.E.2 d. Based on this sample, do we know the proportion of all adults who own a cell phone? Explain fully. 15. A sociologist wishes to estimate the proportion of all adults in a certain region who have never married. In a random sample of adults, have never married, hence or about have never married. a. What is the population of interest? b. What is the parameter of interest? c. What is the statistic involved? d. Based on this sample, do we know the proportion of all adults who have never married? Explain fully. a. 16. What must be true of a sample if it is to give a reliable estimate of the value of a particular population parameter? b. What must be true of a sample if it is to give certain knowledge of the value of a particular population parameter? Answers 1. A population is the total collection of objects that are of interest in a statistical study. 2. 3. A sample, being a subset, is typically smaller than the population. In a statistical study, all elements of a sample are available for observation, which is not typically the case for a population. 4. 5. A parameter is a value describing a characteristic of a population. In a statistical study the value of a parameter is typically unknown. 6. 7. All currently registered students at a particular college form a population. Two population characteristics of interest could be the average GPA and the proportion of students over years. 8. a. 9. Population. b. Sample. c. Population. d. Sample. e. Sample. 10. a. 11. Qualitative. b. Qualitative. c. Quantitative. d. Quantitative. e. Qualitative. 12. a. 13. All newborn babies in South America in the last five years. b. The average birth weight of all newborn babies in South America in the last five years. c. No, not exactly, but we know the approximate value of the average. 14. a. 15. All adults in the region. b. The proportion of the adults in the region who have never married. c. The proportion computed from the sample, . d. No, not exactly, but we know the approximate value of the proportion. This page titled 1.E: Introduction to Statistics (Exercises) is shared under a CC BY-NC-SA 3.0 license and was authored, remixed, and/or curated by Anonymous via source content that was edited to the style and standards of the LibreTexts platform. 1, 320 145 145  1320  .11 11% 23 0.1 ',\n",
       " \"CHAPTER OVERVIEW 2: Descriptive Statistics Statistics naturally divides into two branches, descriptive statistics and inferential statistics. Our main interest is in inferential statistics to try to infer from the data what the population might thin or to evaluate the probability that an observed difference between groups is a dependable one or one that might have happened by chance in this study. Nevertheless, the starting point for dealing with a collection of data is to organize, display, and summarize it effectively. These are the objectives of descriptive statistics, the topic of this chapter. 2.1: Three Popular Data Displays 2.2: Measures of Central Location - Three Kinds of Averages 2.3: Measures of Variability 2.4: Relative Position of Data 2.5: The Empirical Rule and Chebyshev's Theorem 2.E: Descriptive Statistics (Exercises) This page titled 2: Descriptive Statistics is shared under a CC BY-NC-SA 3.0 license and was authored, remixed, and/or curated by Anonymous via source content that was edited to the style and standards of the LibreTexts platform. \",\n",
       " '2.1: Three Popular Data Displays To learn to interpret the meaning of three graphical representations of sets of data: stem and leaf diagrams, frequency histograms, and relative frequency histograms. A well-known adage is that  a picture is worth a thousand words.  This saying proves true when it comes to presenting statistical information in a data set. There are many effective ways to present data graphically. The three graphical tools that are introduced in this section are among the most commonly used and are relevant to the subsequent presentation of the material in this book. Stem and Leaf Diagrams Suppose students in a statistics class took a test and made the following scores: How did the class do on the test? A quick glance at the set of numbers does not immediately give a clear answer. However the data set may be reorganized and rewritten to make relevant information more visible. One way to do so is to construct a stem and leaf diagram as shown in Figure The numbers in the tens place, from through , and additionally the number , are the  stems,  and are arranged in numerical order from top to bottom to the left of a vertical line. The number in the units place in each measurement is a  leaf,  and is placed in a row to the right of the corresponding stem, the number in the tens place of that measurement. Thus the three leaves in the row headed with the stem correspond to the three exam scores in the (in the first row of data), (in the third row), and (also in the third row). Figure : Stem and Leaf Diagram The display is made even more useful for some purposes by rearranging the leaves in numerical order, as shown in Figure . Either way, with the data reorganized certain information of interest becomes apparent immediately. There are two perfect scores; three students made scores under ; most students scored in the ; and the overall average is probably in the high . Figure : Ordered Stem and Leaf Diagram In this example the scores have a natural stem (the tens place) and leaf (the ones place). One could spread the diagram out by splitting each tens place number into lower and upper categories. For example, all the scores in the may be represented on two separate stems, lower and upper :  Learning Objectives 30 86 90 40 80 83 58 25 70 68 77 73 69 73 73 100 76 70 78 100 90 87 90 83 97 69 71 92 93 95 74 30 2.1.1 2 9 10 9, 8, and 9 6 60s, 69 68 69 2.1.1 2.1.2 60 70s, 80s and 90s 70s or low 80s 2.1.2 80s 80s 80s ',\n",
       " 'The definitions of stems and leaves are flexible in practice. The general purpose of a stem and leaf diagram is to provide a quick display of how the data are distributed across the range of their values; some improvisation could be necessary to obtain a diagram that best meets that goal. Note that all of the original data can be recovered from the stem and leaf diagram. This will not be true in the next two types of graphical displays. Frequency Histograms The stem and leaf diagram is not practical for large data sets, so we need a different, purely graphical way to represent data. A frequency histogram is such a device. We will illustrate it using the same data set from the previous subsection. For the scores on the exam, it is natural to group the scores on the standard ten-point scale, and count the number of scores in each group. Thus there are two , seven scores in the , six in the , and so on. We then construct the diagram shown in Figure by drawing for each group, or class, a vertical bar whose length is the number of observations in that group. In our example, the bar labeled is units long, the bar labeled is units long, and so on. While the individual data values are lost, we know the number in each class. This number is called the frequency of the class, hence the name frequency histogram. Figure : Frequency Histogram The same procedure can be applied to any collection of numerical data. Observations are grouped into several classes and the frequency (the number of observations) of each class is noted. These classes are arranged and indicated in order on the horizontal axis (called the x-axis), and for each group a vertical bar, whose length is the number of observations in that group, is drawn. The resulting display is a frequency histogram for the data. The similarity in Figure and Figure is apparent, particularly if you imagine turning the stem and leaf diagram on its side by rotating it a quarter turn counterclockwise. In general, the definition of the classes in the frequency histogram is flexible. The general purpose of a frequency histogram is very much the same as that of a stem and leaf diagram, to provide a graphical display that gives a sense of data distribution across the range of values that appear. We will not discuss the process of constructing a histogram from data since in actual practice it is done automatically with statistical software or even handheld calculators. Relative Frequency Histograms In our example of the exam scores in a statistics class, five students scored in the . The number is the frequency of the group labeled   .  Since there are students in the entire statistics class, the proportion who scored in the is . The number , which could also be expressed as , or as , is the relative frequency of the group labeled   .  Every group (the , the , and so on) has a relative frequency. We can thus construct a diagram by drawing for each group, or class, a vertical bar whose length is the relative frequency of that group. For example, the bar for the will have length unit, not 8 8 0 6 3 7 3 30 100s 90s 80s 2.1.3 100 2 90 7 2.1.3 2.1.1 2.1.3  Definition 80s 5 80s 30 80s 5/30 5/30 0.1  . 1667 6  16.67% 80s 70s 80s 80s 5/30 5 ',\n",
       " 'units. The diagram is a relative frequency histogram for the data, and is shown in Figure . It is exactly the same as the frequency histogram except that the vertical axis in the relative frequency histogram is not frequency but relative frequency. Figure : Relative Frequency Histogram The same procedure can be applied to any collection of numerical data. Classes are selected, the relative frequency of each class is noted, the classes are arranged and indicated in order on the horizontal axis, and for each class a vertical bar, whose length is the relative frequency of the class, is drawn. The resulting display is a relative frequency histogram for the data. A key point is that now if each vertical bar has width unit, then the total area of all the bars is or . Although the histograms in Figure and Figure have the same appearance, the relative frequency histogram is more important for us, and it will be relative frequency histograms that will be used repeatedly to represent data in this text. To see why this is so, reflect on what it is that you are actually seeing in the diagrams that quickly and effectively communicates information to you about the data. It is the relative sizes of the bars. The bar labeled     in either figure takes up of the total area of all the bars, and although we may not think of this consciously, we perceive the proportion in the figures, indicating that a third of the grades were in the . The relative frequency histogram is important because the labeling on the vertical axis reflects what is important visually: the relative sizes of the bars. Figure : Sample Size and Relative Frequency Histogram When the size n of a sample is small only a few classes can be used in constructing a relative frequency histogram. Such a histogram might look something like the one in panel (a) of Figure . If the sample size were increased, then more classes could be used in constructing a relative frequency histogram and the vertical bars of the resulting histogram would be finer, as indicated in panel (b) of Figure . For a very large sample the relative frequency histogram would look very fine, like the one 2.1.4 2.1.4 1 1 100% 2.1.3 2.1.4 70s 1/3 1/3 70s 2.1.5 2.1.5 n 2.1.5 ',\n",
       " 'in (c) of Figure . If the sample size were to increase indefinitely then the corresponding relative frequency histogram would be so fine that it would look like a smooth curve, such as the one in panel (d) of Figure . Figure : A Very Fine Relative Frequency Histogram It is common in statistics to represent a population or a very large data set by a smooth curve. It is good to keep in mind that such a curve is actually just a very fine relative frequency histogram in which the exceedingly narrow vertical bars have disappeared. Because the area of each such vertical bar is the proportion of the data that lies in the interval of numbers over which that bar stands, this means that for any two numbers and , the proportion of the data that lies between the two numbers and is the area under the curve that is above the interval ( ) in the horizontal axis. This is the area shown in Figure . In particular the total area under the curve is , or . Graphical representations of large data sets provide a quick overview of the nature of the data. A population or a very large data set may be represented by a smooth curve. This curve is a very fine relative frequency histogram in which the exceedingly narrow vertical bars have been omitted. When a curve derived from a relative frequency histogram is used to describe a data set, the proportion of data with values between two numbers and is the area under the curve between and , as illustrated in Figure . This page titled 2.1: Three Popular Data Displays is shared under a CC BY-NC-SA 3.0 license and was authored, remixed, and/or curated by Anonymous via source content that was edited to the style and standards of the LibreTexts platform. 2.1.5 2.1.5 2.1.6 a b a b a, b 2.1.6 1 100%  Key Takeaway a b a b 2.1.6 ',\n",
       " '2.2: Measures of Central Location - Three Kinds of Averages To learn the concept of the  center  of a data set. To learn the meaning of each of three measures of the center of a data set the mean, the median, and the mode and how to compute each one. This section is be titled  three kinds of averages  because any kind of average could be used to answer the question \"where is the center of the data?\". We will see that the nature of the data set, as indicated by a relative frequency histogram, will determine what constitutes a good answer. Different shapes of the histogram call for different measures of central location. The Mean The first measure of central location is the usual  average  that is familiar to everyone: add up all the values, then divide by the number of values. Before writing a formula for the mean let us introduce some handy mathematical notation. The Greek letter , pronounced \"sigma\", is a handy mathematical shorthand that stands for \"add up all the values\" or \"sum\". For example means \"add up all the values of \", and means \"add up all the values of \". In these expressions usually stands for a value of the data, so stands for \"the sum of all the data values\" and means \"the sum of the squares of all the data values\". stands for the sample size, the number of data values. An example will help make this clear. Find , , and for the data: Solution Using these handy notations it\\'s easy to write a formula defining the mean of a sample. The sample mean of a set of sample data values is the number defined by the formula Find the mean of the following sample data: , , , Solution This is a application of Equation :  Learning Objectives  notations: \"sum\" and \"sample size\"   n    x x  x2 x2 x  x  x2 n  Example 2.2.1 n  x  x2  (x  1)2 1, 3, 4 n  x  x2  (x  1)2 = = = = 3 because there are three data values 1 +3 +4 = 8 + + = 1 +9 +16 = 26 12 32 42 + + = + + = 13 (1  1)2 (3  1)2 (4  1)2 02 22 32 x   Definition: Sample Mean n x  = x   x n (2.2.1)  Example 2.2.2 2  1 0 2 2.2.1 = = = = 0.75 x   x n 2 +( 1)+0 +2 4 3 4 ',\n",
       " 'A random sample of ten students is taken from the student body of a college and their GPAs are recorded as follows: Find the mean. Solution This is a application of Equation : A random sample of women beyond child-bearing age gave the following data, where is the number of children and is the frequency, or the number of times it occurred in the data set. Find the sample mean. Solution In this example the data are presented by means of a data frequency table, introduced in Chapter 1. Each number in the first line of the table is a number that appears in the data set; the number below it is how many times it occurs. Thus the value is observed three times, that is, three of the measurements in the data set are , the value is observed six times, and so on. In the context of the problem this means that three women in the sample have had no children, six have had exactly one child, and so on. The explicit list of all the observations in this data set is therefore: The sample size can be read directly from the table, without first listing the entire data set, as the sum of the frequencies: . The sample mean can be computed directly from the table as well: In the examples above the data sets were described as samples. Therefore the means were sample means . If the data come from a census, so that there is a measurement for every element of the population, then the mean is calculated by exactly the same process of summing all the measurements and dividing by how many of them there are, but it is now the population mean and is denoted by , the lower case Greek letter mu. The population mean of a set of population data is the number defined by the formula: The mean of two numbers is the number that is halfway between them. For example, the average of the numbers and is , which is units above and units below . In this sense the average is the  center  of the data set . For larger data sets the mean can similarly be regarded as the  center  of the data. The Median To see why another concept of average is needed, consider the following situation. Suppose we are interested in the average yearly income of employees at a large corporation. We take a random sample of seven employees, obtaining the sample data (rounded to  Example 2.2.3 1.90, 3.00, 2.53, 3.71, 2.12, 1.76, 2.71, 1.39, 4.00, 3.33 2.2.1 = = = = 2.645 x   x n 1.90 +3.00 +2.53 +3.71 +2.12 +1.76 +2.71 +1.39 +4.00 +3.33 10 26.45 10  Example 2.2.4 19 x f x f 0 3 1 6 2 6 3 3 4 1 0 0 1 0, 0, 0, 1, 1, 1, 1, 1, 1, 2, 2, 2, 2, 2, 2, 3, 3, 3, 4 n = 3 +6 +6 +3 +1 = 19 = = = = 1.6316 x   x n 0  3 +1  6 +2  6 +3  3 +4  1 19 31 19 x     Definition: Population Mean N     = .  x N 5 17 (5 +17) 2 = 11 6 5 6 17 11 {5, 17} ',\n",
       " 'the nearest hundred dollars, and expressed in thousands of dollars). The mean (rounded to one decimal place) is , but the statement  the average income of employees at this corporation is   is surely misleading. It is approximately twice what six of the seven employees in the sample make and is nowhere near what any of them makes. It is easy to see what went wrong: the presence of the one executive in the sample, whose salary is so large compared to everyone else s, caused the numerator in the formula for the sample mean to be far too large, pulling the mean far to the right of where we think that the average  ought  to be, namely around or . The number in our data set is called an outlier, a number that is far removed from most or all of the remaining measurements. Many times an outlier is the result of some sort of error, but not always, as is the case here. We would get a better measure of the  center  of the data if we were to arrange the data in numerical order: then select the middle number in the list, in this case . The result is called the median of the data set, and has the property that roughly half of the measurements are larger than it is, and roughly half are smaller. In this sense it locates the center of the data. If there are an even number of measurements in the data set, then there will be two middle elements when all are lined up in order, so we take the mean of the middle two as the median. Thus we have the following definition. The sample median of a set of sample data for which there are an odd number of measurements is the middle measurement when the data are arranged in numerical order. The sample median of a set of sample data for which there are an even number of measurements, is the mean of the two middle measurements when the data are arranged in numerical order. The population median is defined in the same way as the sample median except for the entire population. The median is a value that divides the observations in a data set so that of the data are on its left and the other on its right. In accordance with Figure , therefore, in the curve that represents the distribution of the data, a vertical line drawn at the median divides the area in two, area ( of the total area ) to the left and area ( of the total area ) to the right, as shown in Figure . In our income example the median, , clearly gave a much better measure of the middle of the data set than did the mean . This is typical for situations in which the distribution is skewed. (Skewness and symmetry of distributions are discussed at the end of this subsection.) Figure : The Median 24.8, 22.8, 24.6, 192.5, 25.2, 18.5, 23.7 = 47.4 x  $47, 400 $24, 000 $25, 000 192.5 18.5, 22.8, 23.7, 24.6, 24.8, 25.2, 192.5 24.6  Definition: Sample Median x~  Definition: Population Median 50% 50% 2.2.7 0.5 50% 1 0.5 50% 1 2.2.1 $24, 600 $47, 400 2.2.1 ',\n",
       " 'Compute the sample median for the data from Example Solution The data in numerical order are . The two middle measurements are and , so . Compute the sample median for the data from Example Solution The data in numerical order are The number of observations is ten, which is even, so there are two middle measurements, the fifth and sixth, which are and . Therefore the median of these data is . Compute the sample median for the data from Example Solution The data in numerical order are: The number of observations is , which is odd, so there is one middle measurement, the tenth. Since the tenth measurement is , the median is . In the last example it is important to note that we could have computed the median directly from the frequency table, without first explicitly listing all the observations in the data set. We already saw in Example how to find the number of observations directly from the frequencies listed in the table . Thus the median is the tenth observation. The second line of the table in Example shows that when the data are listed in order there will be three followed by six , so the tenth observation, the median, is . The relationship between the mean and the median for several common shapes of distributions is shown in Figure . The distributions in panels (a) and (b) are said to be symmetric because of the symmetry that they exhibit. The distributions in the remaining two panels are said to be skewed. In each distribution we have drawn a vertical line that divides the area under the curve in half, which in accordance with Figure is located at the median. The following facts are true in general: When the distribution is symmetric, as in panels (a) and (b) of Figure , the mean and the median are equal. When the distribution is as shown in panel (c), it is said to be skewed right. The mean has been pulled to the right of the median by the long  right tail  of the distribution, the few relatively large data values. When the distribution is as shown in panel (d), it is said to be skewed left. The mean has been pulled to the left of the median by the long  left tail  of the distribution, the few relatively small data values.  Example 2.2.5 2.2.2  1, 0, 2, 2 0 2 = (0 +2)/2 = 1 x~  Example 2.2.6 2.2.3 1.39, 1.76, 1.90, 2.12, 2.53, 2.71, 3.00, 3.33, 3.71, 4.00 2.53 2.71 = (2.53 +2.71)/2 = 2.62 x~  Example 2.2.7 2.2.4 0, 0, 0, 1, 1, 1, 1, 1, 1, 2, 2, 2, 2, 2, 2, 3, 3, 3, 4 19 2 = 2 x~ 2.2.4 n = 3 +6 +6 +3 +1 = 19 2.2.4 0s 1s 2 2.2.2 2.2.1 2.2.2 ',\n",
       " 'Figure : Skewness of Relative Frequency Histograms The Mode Perhaps you have heard a statement like  The average number of automobiles owned by households in the United States is ,  and have been amused at the thought of a fraction of an automobile sitting in a driveway. In such a context the following measure for central location might make more sense. The sample mode of a set of sample data is the most frequently occurring value. On a relative frequency histogram, the highest point of the histogram corresponds to the mode of the data set. Figure illustrates the mode. Figure : Mode For any data set there is always exactly one mean and exactly one median. This need not be true of the mode; several different values could occur with the highest frequency, as we will see. It could even happen that every value occurs with the same 2.2.2 1.37  Definition: Sample Mode 2.2.3 2.2.3 ',\n",
       " 'frequency, in which case the concept of the mode does not make much sense. Find the mode of the following data set: . Solution The value is most frequently observed in the data set, so the mode is . Compute the sample mode for the data of Example Solution The two most frequently observed values in the data set are and . Therefore mode is a set of two values: . The mode is a measure of central location since most real-life data sets have more observations near the center of the data range and fewer observations on the lower and upper ends. The value with the highest frequency is often in the middle of the data range. Key Takeaway The mean, the median, and the mode each answer the question  Where is the center of the data set?  The nature of the data set, as indicated by a relative frequency histogram, determines which one gives the best answer. This page titled 2.2: Measures of Central Location - Three Kinds of Averages is shared under a CC BY-NC-SA 3.0 license and was authored, remixed, and/or curated by Anonymous via source content that was edited to the style and standards of the LibreTexts platform.  Example 2.2.8  1, 0, 2, 0 0 0  Example 2.2.9 2.2.4 1 2 {1, 2} ',\n",
       " '2.3: Measures of Variability To learn the concept of the variability of a data set. To learn how to compute three measures of the variability of a data set: the range, the variance, and the standard deviation. Look at the two data sets in Table and the graphical representation of each, called a dot plot, in Figure . Table : Two Data Sets Data Set I: 40 38 42 40 39 39 43 40 39 40 Data Set II: 46 37 40 33 42 36 40 47 34 45 The two sets of ten measurements each center at the same value: they both have mean, median, and mode . Nevertheless a glance at the figure shows that they are markedly different. In Data Set I the measurements vary only slightly from the center, while for Data Set II the measurements vary greatly. Just as we have attached numbers to a data set to locate its center, we now wish to associate to each data set numbers that measure quantitatively how the data either scatter away from the center or cluster close to it. These new quantities are called measures of variability, and we will discuss three of them. Figure : Dot Plots of Data Sets The Range First we discuss the simplest measure of variability. The range of a data set is difference between its largest and smallest values where is the largest measurement in the data set and is the smallest. Find the range of each data set in Table . Solution For Data Set I the maximum is and the minimum is , so the range is . For Data Set II the maximum is and the minimum is , so the range is . The range is a measure of variability because it indicates the size of the interval over which the data points are distributed. A smaller range indicates less variability (less dispersion) among the data, whereas a larger range indicates the opposite.  Learning Objectives 2.3.1 2.3.1 2.3.1 40 2.3.1  Definition: range R R =   xmax xmin xmax xmin  Example : Identifyig the Range of a dataset 2.3.1 2.3.1 43 38 R = 43  38 = 5 47 33 R = 47  33 = 14 ',\n",
       " 'The Variance and the Standard Deviation The other two measures of variability that we will consider are more elaborate and also depend on whether the data set is just a sample drawn from a much larger population or is the whole population itself (that is, a census). The sample variance of a set of sample data is the number defined by the formula which by algebra is equivalent to the formula The square root of the sample variance is called the sample standard deviation of a set of sample data . It is given by the formulas Although the first formula in each case looks less complicated than the second, the latter is easier to use in hand computations, and is called a shortcut formula. Find the sample variance and the sample standard deviation of Data Set II in Table . Solution To use the defining formula (the first formula) in the definition we first compute for each observation its deviation from the sample mean. Since the mean of the data is , we obtain the ten numbers displayed in the second line of the supplied table Thus so the variance is and the standard deviation is The student is encouraged to compute the ten deviations for Data Set I and verify that their squares add up to , so that the sample variance and standard deviation of Data Set I are the much smaller numbers and  Definition: sample variance and sample Standard Deviation n s2 = s2  (x  x )2 n  1 = s2     x2 1 n ( x)2 n  1 s n s = = = . s2      (x  x )2 n  1             x2 1 n ( x)2 n  1                Example : Identifying the Variance and Standard Deviation of a Dataset 2.3.2 2.3.1 x x  x  = 40 x  x x  x  46  6 37  3 40 0 33  7 42 2 36  4 40 0 47 7 34  6 45 5  (x   = +( 3 + +( 7 + +( 4 + + +( 6 + = 224 x )2 62 )2 02 )2 22 )2 02 72 )2 52 = = = 24. s2  (x  x )2 n  1 224 9 8  s =  4.99 24.8        20 = 20/9 = 2. s2 2  s = 20/9  1.49 ',\n",
       " 'Find the sample variance and the sample standard deviation of the ten GPAs in \"Example 2.2.3\" in Section 2.2. Solution Since and the shortcut formula gives and The sample variance has different units from the data. For example, if the units in the data set were inches, the new units would be inches squared, or square inches. It is thus primarily of theoretical importance and will not be considered further in this text, except in passing. If the data set comprises the whole population, then the population standard deviation, denoted (the lower case Greek letter sigma), and its square, the population variance , are defined as follows. The variability of a set of population data is measured by the population variance and its square root, the population standard deviation where is the population mean as defined above. Note that the denominator in the fraction is the full number of observations, not that number reduced by one, as is the case with the sample standard deviation. Since most data sets are samples, we will always work with the sample standard deviation and variance. Finally, in many real-life situations the most important statistical issues have to do with comparing the means and standard deviations of two data sets. Figure illustrates how a difference in one or both of the sample mean and the sample standard deviation are reflected in the appearance of the data set as shown by the curves derived from the relative frequency histograms built using the data.  Example 2.3.2 1.90 3.00 2.53 3.71 2.12 1.76 2.71 1.39 4.00 3.33  x = 1.90 +3.00 +2.53 +3.71 +2.12 +1.76 +2.71 +1.39 +4.00 +3.33 = 26.45   = 1.902 +3.002 +2.532 +3.712 +2.122 +1.762 +2.712 +1.392 +4.002 +3.332 = 76.7321 x2 = = = = 0.75242 s2    ( x x2 )2 n  1 76.7321  (26.45 /10 )2 10  1 6.77185 9 7  s =  0.867 0.752427             2  Definitions: The population variance and population standard deviation  2   N =  2  (x  )2 N (2.3.1)   =  (x  )2 N         (2.3.2)   2.3.2 ',\n",
       " 'Figure : Difference between Two Data Sets Key Takeaway The range, the standard deviation, and the variance each give a quantitative answer to the question  How variable are the data?  This page titled 2.3: Measures of Variability is shared under a CC BY-NC-SA 3.0 license and was authored, remixed, and/or curated by Anonymous via source content that was edited to the style and standards of the LibreTexts platform. 2.3.2 ']"
      ]
     },
     "execution_count": 6,
     "metadata": {},
     "output_type": "execute_result"
    }
   ],
   "source": [
    "cleaned_content[0:30]"
   ]
  },
  {
   "cell_type": "code",
   "execution_count": 7,
   "metadata": {},
   "outputs": [
    {
     "data": {
      "text/plain": [
       "401"
      ]
     },
     "execution_count": 7,
     "metadata": {},
     "output_type": "execute_result"
    }
   ],
   "source": [
    "len(cleaned_content)"
   ]
  },
  {
   "cell_type": "code",
   "execution_count": 8,
   "metadata": {},
   "outputs": [
    {
     "data": {
      "text/plain": [
       "list"
      ]
     },
     "execution_count": 8,
     "metadata": {},
     "output_type": "execute_result"
    }
   ],
   "source": [
    "type(cleaned_content)"
   ]
  },
  {
   "cell_type": "code",
   "execution_count": 9,
   "metadata": {},
   "outputs": [
    {
     "name": "stderr",
     "output_type": "stream",
     "text": [
      "/var/folders/pm/ddtx28cd2hn37jlq10mrtz700000gn/T/ipykernel_34405/210423599.py:4: LangChainDeprecationWarning: The class `OpenAIEmbeddings` was deprecated in LangChain 0.0.9 and will be removed in 1.0. An updated version of the class exists in the :class:`~langchain-openai package and should be used instead. To use it run `pip install -U :class:`~langchain-openai` and import as `from :class:`~langchain_openai import OpenAIEmbeddings``.\n",
      "  embeddings = OpenAIEmbeddings(model=\"text-embedding-3-large\")\n"
     ]
    }
   ],
   "source": [
    "# getting the key\n",
    "api_key = os.getenv(\"OPENAI_API_KEY\")\n",
    "# getting the model\n",
    "embeddings = OpenAIEmbeddings(model=\"text-embedding-3-large\")"
   ]
  },
  {
   "cell_type": "code",
   "execution_count": 10,
   "metadata": {},
   "outputs": [],
   "source": [
    "\n",
    "# Convert cleaned_content into a list of Document objects\n",
    "documents = [Document(page_content=text) for text in cleaned_content]\n",
    "\n",
    "# Use the documents in Chroma\n",
    "client = chromadb.PersistentClient(path=\"./chroma_db\")\n",
    "db = Chroma.from_documents(documents, embeddings, persist_directory=\"./chroma_db\", client=client)"
   ]
  },
  {
   "cell_type": "code",
   "execution_count": 11,
   "metadata": {},
   "outputs": [],
   "source": [
    "user_question = \"What is a normal distribution?\" # User question\n",
    "retrieved_docs = db.similarity_search(user_question, k=10) # k is the number of documents to retrieve"
   ]
  },
  {
   "cell_type": "code",
   "execution_count": 12,
   "metadata": {},
   "outputs": [
    {
     "name": "stdout",
     "output_type": "stream",
     "text": [
      "Document 1:\n",
      "onding to the density function for the bell curve with parameters and is called the normal distribution with mean and standard deviation . A continuous random variable whose probabilities are described by the normal distribution with mean and standard deviation is called a normally distributed random variable, or a normal random variable for short, with mean and standard deviation . Figure shows the density function that determines the normal distribution with mean and standard deviation . We repeat an important fact about this curve: The density curve for the normal distribution is symmetric about the mean. Figure : Density Function for a Normally Distributed Random Variable with Mean and Standard Deviation Heights of -year-old men in a certain region have mean inches and standard deviation inches. These heights are approximately normally distributed. Thus the height of a randomly selected -year-old man is a normal random variable with mean and stan\n"
     ]
    }
   ],
   "source": [
    "# Display top results\n",
    "for i, doc in enumerate(retrieved_docs[:1]): # Display top results\n",
    "    print(f\"Document {i+1}:\\n{doc.page_content[36:1000]}\") # Display content"
   ]
  },
  {
   "cell_type": "code",
   "execution_count": 13,
   "metadata": {},
   "outputs": [],
   "source": [
    "def _get_document_prompt(docs):\n",
    "    prompt = \"\\n\"\n",
    "    for doc in docs:\n",
    "        prompt += \"\\nContent:\\n\"\n",
    "        prompt += doc.page_content + \"\\n\\n\"\n",
    "    return prompt"
   ]
  },
  {
   "cell_type": "code",
   "execution_count": 14,
   "metadata": {},
   "outputs": [
    {
     "name": "stdout",
     "output_type": "stream",
     "text": [
      "Context formatted for GPT model.\n"
     ]
    }
   ],
   "source": [
    "# Generate a formatted context from the retrieved documents\n",
    "formatted_context = _get_document_prompt(retrieved_docs)\n",
    "print(\"Context formatted for GPT model.\")"
   ]
  },
  {
   "cell_type": "code",
   "execution_count": 15,
   "metadata": {},
   "outputs": [
    {
     "name": "stdout",
     "output_type": "stream",
     "text": [
      "Prompt constructed.\n"
     ]
    }
   ],
   "source": [
    "prompt = f\"\"\"\n",
    "## SYSTEM ROLE\n",
    "You are a knowledgeable and factual chatbot designed to assist with technical questions about **Cytology**, specifically focusing on **Lung Cancer**. \n",
    "Your answers must be based exclusively on provided content from technical books provided.\n",
    "\n",
    "## USER QUESTION\n",
    "The user has asked: \n",
    "\"{user_question}\"\n",
    "\n",
    "## CONTEXT\n",
    "Here is the relevant content from the technical books:  \n",
    "'''\n",
    "{formatted_context}\n",
    "'''\n",
    "\n",
    "## GUIDELINES\n",
    "1. **Accuracy**:  \n",
    "   - Only use the content in the `CONTEXT` section to answer.  \n",
    "   - If the answer cannot be found, explicitly state: \"The provided context does not contain this information.\"\n",
    "   - Start explain cell morphology and then divide morphology in bulletpoints (nuclie, cytoplasm, background and other aspects to consider) \n",
    "   - Follow by differential diagnosis\n",
    "   - Lastly explain ancillary studies for malignant mesothelioma.\n",
    "\n",
    "2. **Transparency**:  \n",
    "   - Reference the book's name and page numbers when providing information.  \n",
    "   - Do not speculate or provide opinions.  \n",
    "\n",
    "3. **Clarity**:  \n",
    "   - Use simple, professional, and concise language.  \n",
    "   - Format your response in Markdown for readability.  \n",
    "\n",
    "## TASK\n",
    "1. Answer the user's question **directly** if possible.  \n",
    "2. Point the user to relevant parts of the documentation.  \n",
    "3. Provide the response in the following format:\n",
    "\n",
    "## RESPONSE FORMAT\n",
    "'''\n",
    "# [Brief Title of the Answer]\n",
    "[Answer in simple, clear text.]\n",
    "\n",
    "**Source**:  \n",
    "• [Book Title], Page(s): [...]\n",
    "'''\n",
    "\"\"\"\n",
    "print(\"Prompt constructed.\")"
   ]
  },
  {
   "cell_type": "code",
   "execution_count": 16,
   "metadata": {},
   "outputs": [],
   "source": [
    "# Set up GPT client and parameters\n",
    "client = openai.OpenAI()\n",
    "model_params = {\n",
    "    'model': 'gpt-4o',\n",
    "    'temperature': 0.7,  # Increase creativity\n",
    "    'max_tokens': 4000,  # Allow for longer responses\n",
    "    'top_p': 0.9,        # Use nucleus sampling\n",
    "    'frequency_penalty': 0.5,  # Reduce repetition\n",
    "    'presence_penalty': 0.6    # Encourage new topics\n",
    "}"
   ]
  },
  {
   "cell_type": "code",
   "execution_count": 17,
   "metadata": {},
   "outputs": [],
   "source": [
    "messages = [{'role': 'user', 'content': prompt}]\n",
    "completion = client.chat.completions.create(messages=messages, **model_params, timeout=120)"
   ]
  },
  {
   "cell_type": "code",
   "execution_count": 18,
   "metadata": {},
   "outputs": [
    {
     "name": "stdout",
     "output_type": "stream",
     "text": [
      "'''\n",
      "# Understanding Normal Distribution\n",
      "\n",
      "A normal distribution is a probability distribution corresponding to the density function for a bell curve with specific parameters: mean (\\(\\mu\\)) and standard deviation (\\(\\sigma\\)). A continuous random variable that follows this distribution is called a normally distributed random variable, or simply, a normal random variable. An important characteristic of the normal distribution is that its density curve is symmetric about the mean.\n",
      "\n",
      "**Source**:  \n",
      "• [Technical Book on Probability Distributions], Page(s): Not specified in provided context\n",
      "'''\n"
     ]
    }
   ],
   "source": [
    "answer = completion.choices[0].message.content\n",
    "print(answer)"
   ]
  }
 ],
 "metadata": {
  "kernelspec": {
   "display_name": "chat",
   "language": "python",
   "name": "python3"
  },
  "language_info": {
   "codemirror_mode": {
    "name": "ipython",
    "version": 3
   },
   "file_extension": ".py",
   "mimetype": "text/x-python",
   "name": "python",
   "nbconvert_exporter": "python",
   "pygments_lexer": "ipython3",
   "version": "3.10.16"
  }
 },
 "nbformat": 4,
 "nbformat_minor": 2
}
